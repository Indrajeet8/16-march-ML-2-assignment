{
 "cells": [
  {
   "cell_type": "markdown",
   "id": "b19ab928-68e1-42cf-8693-8437ff29694a",
   "metadata": {},
   "source": [
    "Introduction to\n",
    "Machine Learning-2"
   ]
  },
  {
   "cell_type": "markdown",
   "id": "d60486f8-5281-4e6d-9a2d-908ea3cd791d",
   "metadata": {},
   "source": [
    "Assignment Questions"
   ]
  },
  {
   "cell_type": "code",
   "execution_count": 1,
   "id": "1c9f89a6-a98e-421a-9b9a-e1f83ae1db99",
   "metadata": {},
   "outputs": [],
   "source": [
    "#Q1. Define overfitting and underfitting in machine learnig . what are the consequence of each and how can they be mitigated "
   ]
  },
  {
   "cell_type": "markdown",
   "id": "c7b281be-0239-49ed-9b22-a0dd4a5e7f64",
   "metadata": {},
   "source": [
    "Overfitting and Underfitting are the two main problems that occur in machine learning and degrade the performance of the machine learning models.\n",
    "\n",
    "The main goal of each machine learning model is to generalize well. Here generalization defines the ability of an ML model to provide a suitable output by adapting the given set of unknown input. It means after providing training on the dataset, it can produce reliable and accurate output. Hence, the underfitting and overfitting are the two terms that need to be checked for the performance of the model and whether the model is generalizing well or not"
   ]
  },
  {
   "cell_type": "code",
   "execution_count": null,
   "id": "e26a2314-d078-43b7-8657-de113e4c4e06",
   "metadata": {},
   "outputs": [],
   "source": []
  },
  {
   "cell_type": "code",
   "execution_count": 2,
   "id": "30040ee6-8efc-4af4-8380-edfd7236a330",
   "metadata": {},
   "outputs": [],
   "source": [
    "#Q2. How can we reduce overfitting "
   ]
  },
  {
   "cell_type": "markdown",
   "id": "b7fc51a0-973e-4a3e-bda4-43beabd6d72e",
   "metadata": {},
   "source": [
    "we can prevent overfitting by diversify and scaling your traing data set or using some other science strategies , l "
   ]
  },
  {
   "cell_type": "code",
   "execution_count": null,
   "id": "f1d1afc0-86b1-4287-b058-29214940247e",
   "metadata": {},
   "outputs": [],
   "source": []
  },
  {
   "cell_type": "code",
   "execution_count": 3,
   "id": "9c26cfde-27dc-4396-8900-757ceb5bb54e",
   "metadata": {},
   "outputs": [],
   "source": [
    "#Q3: Explain underfitting. List scenarios where underfitting can occur in ML."
   ]
  },
  {
   "cell_type": "markdown",
   "id": "734af006-00e8-4c8e-a820-4ebbc69a6d30",
   "metadata": {},
   "source": [
    "its occurrence simply means that our model or the algorithm does not fit the data well enough. It usually happens when we have less data to build an accurate model and also when we try to build a linear model with fewer non-linear data"
   ]
  },
  {
   "cell_type": "code",
   "execution_count": null,
   "id": "4e77de0f-dbb0-42d4-b644-82de6d905165",
   "metadata": {},
   "outputs": [],
   "source": []
  },
  {
   "cell_type": "code",
   "execution_count": 4,
   "id": "32196b09-93fd-48ed-83f1-2955bd37007e",
   "metadata": {},
   "outputs": [],
   "source": [
    "#Q4: Explain the bias-variance tradeoff in machine learning. What is the relationship between bias and variance, and how do they affect model performance?\n"
   ]
  },
  {
   "cell_type": "markdown",
   "id": "7ec6803c-e026-4b7f-a367-d28d7194d72d",
   "metadata": {},
   "source": [
    "Bias Variance Tradeoff\n",
    "If the algorithm is too simple (hypothesis with linear equation) then it may be on high bias and low variance condition and thus is error-prone."
   ]
  },
  {
   "cell_type": "code",
   "execution_count": null,
   "id": "386ff741-656a-4220-a0dc-ea04f349d4eb",
   "metadata": {},
   "outputs": [],
   "source": []
  },
  {
   "cell_type": "code",
   "execution_count": 5,
   "id": "c8b09914-c6e4-4b6b-8056-844ea4056bd8",
   "metadata": {},
   "outputs": [
    {
     "ename": "SyntaxError",
     "evalue": "invalid syntax (796936652.py, line 2)",
     "output_type": "error",
     "traceback": [
      "\u001b[0;36m  Cell \u001b[0;32mIn[5], line 2\u001b[0;36m\u001b[0m\n\u001b[0;31m    How c\u001b[0m\n\u001b[0m        ^\u001b[0m\n\u001b[0;31mSyntaxError\u001b[0m\u001b[0;31m:\u001b[0m invalid syntax\n"
     ]
    }
   ],
   "source": [
    "#Q5: Discuss some common methods for detecting overfitting and underfitting in machine learning model\n",
    "How c"
   ]
  },
  {
   "cell_type": "code",
   "execution_count": null,
   "id": "f4e4f2bc-f1de-4ae4-9c20-5ddfcfa1e72d",
   "metadata": {},
   "outputs": [],
   "source": []
  }
 ],
 "metadata": {
  "kernelspec": {
   "display_name": "Python 3 (ipykernel)",
   "language": "python",
   "name": "python3"
  },
  "language_info": {
   "codemirror_mode": {
    "name": "ipython",
    "version": 3
   },
   "file_extension": ".py",
   "mimetype": "text/x-python",
   "name": "python",
   "nbconvert_exporter": "python",
   "pygments_lexer": "ipython3",
   "version": "3.10.8"
  }
 },
 "nbformat": 4,
 "nbformat_minor": 5
}
